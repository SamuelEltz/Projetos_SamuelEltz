{
 "cells": [
  {
   "cell_type": "code",
   "execution_count": 3,
   "id": "247abac4-1a5b-41ab-b7be-e464ad3d229a",
   "metadata": {},
   "outputs": [
    {
     "name": "stdout",
     "output_type": "stream",
     "text": [
      "[main 3196e55] Atualização automática: 2025-05-26 15:06:50\n",
      " 2 files changed, 192 insertions(+)\n",
      " create mode 100644 .ipynb_checkpoints/git_push-checkpoint.ipynb\n",
      " create mode 100644 git_push.ipynb\n",
      "❌ Erro ao executar: Command '['git', 'push', 'origin', 'main']' returned non-zero exit status 128.\n"
     ]
    },
    {
     "name": "stderr",
     "output_type": "stream",
     "text": [
      "fatal: could not read Username for 'https://github.com': No such device or address\n"
     ]
    }
   ],
   "source": [
    "import subprocess\n",
    "from datetime import datetime\n",
    "\n",
    "# Configurar nome e e-mail do autor dos commits\n",
    "subprocess.run([\"git\", \"config\", \"--global\", \"user.name\", \"Samuel Eltz\"])\n",
    "subprocess.run([\"git\", \"config\", \"--global\", \"user.email\", \"samueltz@live.com\"])\n",
    "\n",
    "# Mensagem de commit automática\n",
    "commit_message = f\"Atualização automática: {datetime.now().strftime('%Y-%m-%d %H:%M:%S')}\"\n",
    "\n",
    "# Caminho para o repositório clonado\n",
    "repo_path = \"/workspace/Notebooks/Projetos_SamuelEltz\"\n",
    "\n",
    "# Função para dar push\n",
    "def git_push(path, message):\n",
    "    try:\n",
    "        subprocess.run([\"git\", \"add\", \".\"], cwd=path, check=True)\n",
    "        subprocess.run([\"git\", \"commit\", \"-m\", message], cwd=path, check=True)\n",
    "        subprocess.run([\"git\", \"push\", \"origin\", \"main\"], cwd=path, check=True)\n",
    "        print(\"✅ Push realizado com sucesso.\")\n",
    "    except subprocess.CalledProcessError as e:\n",
    "        print(f\"❌ Erro ao executar: {e}\")\n",
    "\n",
    "# Executar push\n",
    "git_push(repo_path, commit_message)\n"
   ]
  },
  {
   "cell_type": "code",
   "execution_count": 4,
   "id": "1d59cff6-48e3-4d4a-b7a9-3819d6824af7",
   "metadata": {},
   "outputs": [
    {
     "ename": "SyntaxError",
     "evalue": "invalid syntax (1523609073.py, line 1)",
     "output_type": "error",
     "traceback": [
      "\u001b[0;36m  Cell \u001b[0;32mIn[4], line 1\u001b[0;36m\u001b[0m\n\u001b[0;31m    https://github.com/SamuelEltz/Projetos_SamuelEltz.git\u001b[0m\n\u001b[0m          ^\u001b[0m\n\u001b[0;31mSyntaxError\u001b[0m\u001b[0;31m:\u001b[0m invalid syntax\n"
     ]
    }
   ],
   "source": [
    "# Atualizar o remote origin com token de acesso pessoal\n",
    "token = \"ghp_SEU_TOKEN_AQUI\"  # substitua pelo token real\n",
    "repo_url = f\"https://{token}@github.com/SamuelEltz/Projetos_SamuelEltz.git\"\n",
    "\n",
    "# Atualizar o origin remoto\n",
    "subprocess.run([\"git\", \"remote\", \"set-url\", \"origin\", repo_url], cwd=repo_path, check=True)\n"
   ]
  }
 ],
 "metadata": {
  "kernelspec": {
   "display_name": "Python 3 (ipykernel)",
   "language": "python",
   "name": "python3"
  },
  "language_info": {
   "codemirror_mode": {
    "name": "ipython",
    "version": 3
   },
   "file_extension": ".py",
   "mimetype": "text/x-python",
   "name": "python",
   "nbconvert_exporter": "python",
   "pygments_lexer": "ipython3",
   "version": "3.9.2"
  }
 },
 "nbformat": 4,
 "nbformat_minor": 5
}
